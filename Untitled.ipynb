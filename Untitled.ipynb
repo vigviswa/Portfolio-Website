{
  "nbformat": 4,
  "nbformat_minor": 0,
  "metadata": {
    "colab": {
      "name": "Untitled",
      "provenance": [],
      "authorship_tag": "ABX9TyOawy0vFZOAr+ZQwVhYTj5G",
      "include_colab_link": true
    },
    "kernelspec": {
      "name": "python3",
      "display_name": "Python 3"
    }
  },
  "cells": [
    {
      "cell_type": "markdown",
      "metadata": {
        "id": "view-in-github",
        "colab_type": "text"
      },
      "source": [
        "<a href=\"https://colab.research.google.com/github/vigviswa/resume/blob/master/Untitled.ipynb\" target=\"_parent\"><img src=\"https://colab.research.google.com/assets/colab-badge.svg\" alt=\"Open In Colab\"/></a>"
      ]
    },
    {
      "cell_type": "code",
      "metadata": {
        "id": "6rwszcd0sF40",
        "colab_type": "code",
        "colab": {}
      },
      "source": [
        "import pandas as pd\n",
        "import matplotlib.pyplot as plt\n",
        "import numpy as np\n",
        "import seaborn as sns\n"
      ],
      "execution_count": null,
      "outputs": []
    },
    {
      "cell_type": "code",
      "metadata": {
        "id": "DgMkfT7dsYW2",
        "colab_type": "code",
        "colab": {}
      },
      "source": [
        "data = pd.read_csv('merged_data.csv')\n",
        "data.head()\n",
        "data_store = data"
      ],
      "execution_count": null,
      "outputs": []
    },
    {
      "cell_type": "code",
      "metadata": {
        "id": "6O_I5O5auAeb",
        "colab_type": "code",
        "colab": {
          "base_uri": "https://localhost:8080/",
          "height": 85
        },
        "outputId": "f3cfd5c5-1577-4280-e4f7-61c0fbc54e88"
      },
      "source": [
        "closed = data[data['Lead_Status']=='Closed']\n",
        "open = data[data['Lead_Status']=='Open']\n",
        "qualified = data[data['Lead_Status']=='Qualified']\n",
        "contacting = data[data['Lead_Status']=='Contacting']\n",
        "print(\"Closed: {}\".format(closed.shape))\n",
        "print(\"Open: {}\".format(open.shape))\n",
        "print(\"Qualified: {}\".format(qualified.shape))\n",
        "print(\"Contacting: {}\".format(contacting.shape))"
      ],
      "execution_count": null,
      "outputs": [
        {
          "output_type": "stream",
          "text": [
            "Closed: (149, 11)\n",
            "Open: (128, 11)\n",
            "Qualified: (121, 11)\n",
            "Contacting: (115, 11)\n"
          ],
          "name": "stdout"
        }
      ]
    },
    {
      "cell_type": "code",
      "metadata": {
        "id": "jGcb4GSTzTbB",
        "colab_type": "code",
        "colab": {
          "base_uri": "https://localhost:8080/",
          "height": 289
        },
        "outputId": "c03d5acd-bafb-4c92-97db-35c2e1db1907"
      },
      "source": [
        "data['Quality_of_Lead'] = data['Lead_Status'].apply(lambda x: 0 if x == 'Open' else 1)\n",
        "data.head()"
      ],
      "execution_count": null,
      "outputs": [
        {
          "output_type": "execute_result",
          "data": {
            "text/html": [
              "<div>\n",
              "<style scoped>\n",
              "    .dataframe tbody tr th:only-of-type {\n",
              "        vertical-align: middle;\n",
              "    }\n",
              "\n",
              "    .dataframe tbody tr th {\n",
              "        vertical-align: top;\n",
              "    }\n",
              "\n",
              "    .dataframe thead th {\n",
              "        text-align: right;\n",
              "    }\n",
              "</style>\n",
              "<table border=\"1\" class=\"dataframe\">\n",
              "  <thead>\n",
              "    <tr style=\"text-align: right;\">\n",
              "      <th></th>\n",
              "      <th>Prospect_ID</th>\n",
              "      <th>Campaign_ID</th>\n",
              "      <th>ID</th>\n",
              "      <th>Type</th>\n",
              "      <th>Activity_Name</th>\n",
              "      <th>Activity_Details</th>\n",
              "      <th>Company</th>\n",
              "      <th>Job_Title</th>\n",
              "      <th>Score</th>\n",
              "      <th>Source</th>\n",
              "      <th>Lead_Status</th>\n",
              "      <th>Quality_of_Lead</th>\n",
              "    </tr>\n",
              "  </thead>\n",
              "  <tbody>\n",
              "    <tr>\n",
              "      <th>0</th>\n",
              "      <td>18130482</td>\n",
              "      <td>2005</td>\n",
              "      <td>3732713277</td>\n",
              "      <td>View</td>\n",
              "      <td>Page View</td>\n",
              "      <td>Service</td>\n",
              "      <td>WestLand's Incorporated</td>\n",
              "      <td>VP of Daily Operations</td>\n",
              "      <td>46</td>\n",
              "      <td>Instagram</td>\n",
              "      <td>Qualified</td>\n",
              "      <td>1</td>\n",
              "    </tr>\n",
              "    <tr>\n",
              "      <th>1</th>\n",
              "      <td>18131757</td>\n",
              "      <td>2019</td>\n",
              "      <td>5605156584</td>\n",
              "      <td>Click</td>\n",
              "      <td>Email Tracker</td>\n",
              "      <td>www.xyz.contactus</td>\n",
              "      <td>HeidieX</td>\n",
              "      <td>Senior Director of B2B Marketing</td>\n",
              "      <td>57</td>\n",
              "      <td>Webinar</td>\n",
              "      <td>Open</td>\n",
              "      <td>0</td>\n",
              "    </tr>\n",
              "    <tr>\n",
              "      <th>2</th>\n",
              "      <td>18131757</td>\n",
              "      <td>2019</td>\n",
              "      <td>7784541526</td>\n",
              "      <td>Open</td>\n",
              "      <td>Email</td>\n",
              "      <td>Three Keys to your success</td>\n",
              "      <td>HeidieX</td>\n",
              "      <td>Senior Director of B2B Marketing</td>\n",
              "      <td>57</td>\n",
              "      <td>Webinar</td>\n",
              "      <td>Open</td>\n",
              "      <td>0</td>\n",
              "    </tr>\n",
              "    <tr>\n",
              "      <th>3</th>\n",
              "      <td>18131757</td>\n",
              "      <td>2019</td>\n",
              "      <td>6788720940</td>\n",
              "      <td>View</td>\n",
              "      <td>Page View</td>\n",
              "      <td>Product</td>\n",
              "      <td>HeidieX</td>\n",
              "      <td>Senior Director of B2B Marketing</td>\n",
              "      <td>57</td>\n",
              "      <td>Webinar</td>\n",
              "      <td>Open</td>\n",
              "      <td>0</td>\n",
              "    </tr>\n",
              "    <tr>\n",
              "      <th>4</th>\n",
              "      <td>18131757</td>\n",
              "      <td>2019</td>\n",
              "      <td>8451239142</td>\n",
              "      <td>View</td>\n",
              "      <td>File</td>\n",
              "      <td>File C</td>\n",
              "      <td>HeidieX</td>\n",
              "      <td>Senior Director of B2B Marketing</td>\n",
              "      <td>57</td>\n",
              "      <td>Webinar</td>\n",
              "      <td>Open</td>\n",
              "      <td>0</td>\n",
              "    </tr>\n",
              "  </tbody>\n",
              "</table>\n",
              "</div>"
            ],
            "text/plain": [
              "   Prospect_ID  Campaign_ID          ID  ...     Source Lead_Status Quality_of_Lead\n",
              "0     18130482         2005  3732713277  ...  Instagram   Qualified               1\n",
              "1     18131757         2019  5605156584  ...    Webinar        Open               0\n",
              "2     18131757         2019  7784541526  ...    Webinar        Open               0\n",
              "3     18131757         2019  6788720940  ...    Webinar        Open               0\n",
              "4     18131757         2019  8451239142  ...    Webinar        Open               0\n",
              "\n",
              "[5 rows x 12 columns]"
            ]
          },
          "metadata": {
            "tags": []
          },
          "execution_count": 144
        }
      ]
    },
    {
      "cell_type": "code",
      "metadata": {
        "id": "tgAadHnUvHjq",
        "colab_type": "code",
        "colab": {
          "base_uri": "https://localhost:8080/",
          "height": 34
        },
        "outputId": "dea4304f-f756-4a22-b0c9-918aa85d42b5"
      },
      "source": [
        "sum(data.duplicated(subset = 'ID')) == 0\n",
        "\n",
        "# There are no duplicate entries"
      ],
      "execution_count": null,
      "outputs": [
        {
          "output_type": "execute_result",
          "data": {
            "text/plain": [
              "True"
            ]
          },
          "metadata": {
            "tags": []
          },
          "execution_count": 145
        }
      ]
    },
    {
      "cell_type": "code",
      "metadata": {
        "id": "GFMFn1ESw9U2",
        "colab_type": "code",
        "colab": {}
      },
      "source": [
        "data = pd.DataFrame(data)"
      ],
      "execution_count": null,
      "outputs": []
    },
    {
      "cell_type": "code",
      "metadata": {
        "id": "UbmH898JxA_W",
        "colab_type": "code",
        "colab": {
          "base_uri": "https://localhost:8080/",
          "height": 340
        },
        "outputId": "3436cfe8-93f4-46ea-fd6f-e884c5e02816"
      },
      "source": [
        "data.info()"
      ],
      "execution_count": null,
      "outputs": [
        {
          "output_type": "stream",
          "text": [
            "<class 'pandas.core.frame.DataFrame'>\n",
            "RangeIndex: 513 entries, 0 to 512\n",
            "Data columns (total 12 columns):\n",
            " #   Column            Non-Null Count  Dtype \n",
            "---  ------            --------------  ----- \n",
            " 0   Prospect_ID       513 non-null    int64 \n",
            " 1   Campaign_ID       513 non-null    int64 \n",
            " 2   ID                513 non-null    int64 \n",
            " 3   Type              513 non-null    object\n",
            " 4   Activity_Name     513 non-null    object\n",
            " 5   Activity_Details  465 non-null    object\n",
            " 6   Company           513 non-null    object\n",
            " 7   Job_Title         513 non-null    object\n",
            " 8   Score             513 non-null    int64 \n",
            " 9   Source            513 non-null    object\n",
            " 10  Lead_Status       513 non-null    object\n",
            " 11  Quality_of_Lead   513 non-null    int64 \n",
            "dtypes: int64(5), object(7)\n",
            "memory usage: 48.2+ KB\n"
          ],
          "name": "stdout"
        }
      ]
    },
    {
      "cell_type": "code",
      "metadata": {
        "id": "BqU2PUImxQGZ",
        "colab_type": "code",
        "colab": {
          "base_uri": "https://localhost:8080/",
          "height": 297
        },
        "outputId": "2edbdc69-8180-42d6-dd93-b500ce02a085"
      },
      "source": [
        "data.describe()"
      ],
      "execution_count": null,
      "outputs": [
        {
          "output_type": "execute_result",
          "data": {
            "text/html": [
              "<div>\n",
              "<style scoped>\n",
              "    .dataframe tbody tr th:only-of-type {\n",
              "        vertical-align: middle;\n",
              "    }\n",
              "\n",
              "    .dataframe tbody tr th {\n",
              "        vertical-align: top;\n",
              "    }\n",
              "\n",
              "    .dataframe thead th {\n",
              "        text-align: right;\n",
              "    }\n",
              "</style>\n",
              "<table border=\"1\" class=\"dataframe\">\n",
              "  <thead>\n",
              "    <tr style=\"text-align: right;\">\n",
              "      <th></th>\n",
              "      <th>Prospect_ID</th>\n",
              "      <th>Campaign_ID</th>\n",
              "      <th>ID</th>\n",
              "      <th>Score</th>\n",
              "      <th>Quality_of_Lead</th>\n",
              "    </tr>\n",
              "  </thead>\n",
              "  <tbody>\n",
              "    <tr>\n",
              "      <th>count</th>\n",
              "      <td>5.130000e+02</td>\n",
              "      <td>513.000000</td>\n",
              "      <td>5.130000e+02</td>\n",
              "      <td>513.000000</td>\n",
              "      <td>513.000000</td>\n",
              "    </tr>\n",
              "    <tr>\n",
              "      <th>mean</th>\n",
              "      <td>1.856125e+07</td>\n",
              "      <td>2008.602339</td>\n",
              "      <td>5.173886e+09</td>\n",
              "      <td>67.206628</td>\n",
              "      <td>0.750487</td>\n",
              "    </tr>\n",
              "    <tr>\n",
              "      <th>std</th>\n",
              "      <td>2.397433e+05</td>\n",
              "      <td>6.610373</td>\n",
              "      <td>2.311745e+09</td>\n",
              "      <td>18.614725</td>\n",
              "      <td>0.433153</td>\n",
              "    </tr>\n",
              "    <tr>\n",
              "      <th>min</th>\n",
              "      <td>1.813048e+07</td>\n",
              "      <td>2000.000000</td>\n",
              "      <td>1.118445e+09</td>\n",
              "      <td>36.000000</td>\n",
              "      <td>0.000000</td>\n",
              "    </tr>\n",
              "    <tr>\n",
              "      <th>25%</th>\n",
              "      <td>1.836084e+07</td>\n",
              "      <td>2004.000000</td>\n",
              "      <td>3.313189e+09</td>\n",
              "      <td>50.000000</td>\n",
              "      <td>1.000000</td>\n",
              "    </tr>\n",
              "    <tr>\n",
              "      <th>50%</th>\n",
              "      <td>1.856003e+07</td>\n",
              "      <td>2009.000000</td>\n",
              "      <td>5.351449e+09</td>\n",
              "      <td>67.000000</td>\n",
              "      <td>1.000000</td>\n",
              "    </tr>\n",
              "    <tr>\n",
              "      <th>75%</th>\n",
              "      <td>1.875656e+07</td>\n",
              "      <td>2016.000000</td>\n",
              "      <td>7.199101e+09</td>\n",
              "      <td>84.000000</td>\n",
              "      <td>1.000000</td>\n",
              "    </tr>\n",
              "    <tr>\n",
              "      <th>max</th>\n",
              "      <td>1.900505e+07</td>\n",
              "      <td>2019.000000</td>\n",
              "      <td>9.043632e+09</td>\n",
              "      <td>98.000000</td>\n",
              "      <td>1.000000</td>\n",
              "    </tr>\n",
              "  </tbody>\n",
              "</table>\n",
              "</div>"
            ],
            "text/plain": [
              "        Prospect_ID  Campaign_ID            ID       Score  Quality_of_Lead\n",
              "count  5.130000e+02   513.000000  5.130000e+02  513.000000       513.000000\n",
              "mean   1.856125e+07  2008.602339  5.173886e+09   67.206628         0.750487\n",
              "std    2.397433e+05     6.610373  2.311745e+09   18.614725         0.433153\n",
              "min    1.813048e+07  2000.000000  1.118445e+09   36.000000         0.000000\n",
              "25%    1.836084e+07  2004.000000  3.313189e+09   50.000000         1.000000\n",
              "50%    1.856003e+07  2009.000000  5.351449e+09   67.000000         1.000000\n",
              "75%    1.875656e+07  2016.000000  7.199101e+09   84.000000         1.000000\n",
              "max    1.900505e+07  2019.000000  9.043632e+09   98.000000         1.000000"
            ]
          },
          "metadata": {
            "tags": []
          },
          "execution_count": 74
        }
      ]
    },
    {
      "cell_type": "code",
      "metadata": {
        "id": "776wfZ2HxlXL",
        "colab_type": "code",
        "colab": {
          "base_uri": "https://localhost:8080/",
          "height": 297
        },
        "outputId": "ca7a0f0c-8bce-4d69-853d-30b9741ef1fd"
      },
      "source": [
        "sns.countplot(data['Lead_Status'])"
      ],
      "execution_count": null,
      "outputs": [
        {
          "output_type": "execute_result",
          "data": {
            "text/plain": [
              "<matplotlib.axes._subplots.AxesSubplot at 0x7f1a859e2630>"
            ]
          },
          "metadata": {
            "tags": []
          },
          "execution_count": 147
        },
        {
          "output_type": "display_data",
          "data": {
            "image/png": "[encoded data removed]",
            "text/plain": [
              "<Figure size 432x288 with 1 Axes>"
            ]
          },
          "metadata": {
            "tags": [],
            "needs_background": "light"
          }
        }
      ]
    },
    {
      "cell_type": "code",
      "metadata": {
        "id": "6kGQLSoAyDaM",
        "colab_type": "code",
        "colab": {
          "base_uri": "https://localhost:8080/",
          "height": 672
        },
        "outputId": "a728ae87-617c-4a8b-a244-c444e7d823ed"
      },
      "source": [
        "fig, axs = plt.subplots(2,2, figsize = (20,10))\n",
        "plt1 = sns.countplot(data['Score'], ax = axs[0,0])\n",
        "plt2 = sns.boxplot(data['Score'], ax = axs[1,0])\n",
        "plt3 = sns.countplot(data['Quality_of_Lead'], ax = axs[1,1])\n",
        "plt.tight_layout()"
      ],
      "execution_count": null,
      "outputs": [
        {
          "output_type": "display_data",
          "data": {
            "image/png": "[encoded data removed]",
            "text/plain": [
              "<Figure size 1440x720 with 4 Axes>"
            ]
          },
          "metadata": {
            "tags": [],
            "needs_background": "light"
          }
        }
      ]
    },
    {
      "cell_type": "code",
      "metadata": {
        "id": "Hqwcwc5bzUKR",
        "colab_type": "code",
        "colab": {
          "base_uri": "https://localhost:8080/",
          "height": 102
        },
        "outputId": "1a0513d1-d7e4-4cd7-c8ce-5c97ec42088c"
      },
      "source": [
        "data.Source.describe()"
      ],
      "execution_count": null,
      "outputs": [
        {
          "output_type": "execute_result",
          "data": {
            "text/plain": [
              "count           513\n",
              "unique            7\n",
              "top       Instagram\n",
              "freq             83\n",
              "Name: Source, dtype: object"
            ]
          },
          "metadata": {
            "tags": []
          },
          "execution_count": 97
        }
      ]
    },
    {
      "cell_type": "code",
      "metadata": {
        "id": "D9Bcdh6Fzbif",
        "colab_type": "code",
        "colab": {
          "base_uri": "https://localhost:8080/",
          "height": 296
        },
        "outputId": "2a11df41-8c3e-4776-ab47-c2c4959ba04b"
      },
      "source": [
        "sns.countplot(data.Source)"
      ],
      "execution_count": null,
      "outputs": [
        {
          "output_type": "execute_result",
          "data": {
            "text/plain": [
              "<matplotlib.axes._subplots.AxesSubplot at 0x7f1a86bedc50>"
            ]
          },
          "metadata": {
            "tags": []
          },
          "execution_count": 150
        },
        {
          "output_type": "display_data",
          "data": {
            "image/png": "[encoded data removed]",
            "text/plain": [
              "<Figure size 432x288 with 1 Axes>"
            ]
          },
          "metadata": {
            "tags": [],
            "needs_background": "light"
          }
        }
      ]
    },
    {
      "cell_type": "code",
      "metadata": {
        "id": "_VqH7ER-zwMt",
        "colab_type": "code",
        "colab": {
          "base_uri": "https://localhost:8080/",
          "height": 296
        },
        "outputId": "32aa4d34-9209-4d1c-9e2f-be0d7b9fcd1c"
      },
      "source": [
        "sns.countplot(x = \"Source\", hue = \"Quality_of_Lead\", data = data)"
      ],
      "execution_count": null,
      "outputs": [
        {
          "output_type": "execute_result",
          "data": {
            "text/plain": [
              "<matplotlib.axes._subplots.AxesSubplot at 0x7f1a8583f128>"
            ]
          },
          "metadata": {
            "tags": []
          },
          "execution_count": 149
        },
        {
          "output_type": "display_data",
          "data": {
            "image/png": "[encoded data removed]",
            "text/plain": [
              "<Figure size 432x288 with 1 Axes>"
            ]
          },
          "metadata": {
            "tags": [],
            "needs_background": "light"
          }
        }
      ]
    },
    {
      "cell_type": "code",
      "metadata": {
        "id": "ZBzgGM4G0DLj",
        "colab_type": "code",
        "colab": {
          "base_uri": "https://localhost:8080/",
          "height": 618
        },
        "outputId": "b6032935-9512-4edb-caed-d3fdbe1d7f0f"
      },
      "source": [
        "plt.figure(figsize=(23,10))\n",
        "data['Activity_Details'] = data['Activity_Details'].replace(np.nan, 'Multiple')\n",
        "data['Activity_Details'] = data['Activity_Details'].replace('The Hidden Mystery Behind AI', 'AI_Mystery')\n",
        "data['Activity_Details'] = data['Activity_Details'].replace('Register for this new deal', 'E_Deal')\n",
        "data['Activity_Details'] = data['Activity_Details'].replace('How To Win Buyers And Influence Sales', 'Influ_Buyers')\n",
        "data['Activity_Details'] = data['Activity_Details'].replace('12 Questions Answered About AI', 'AI_12Ans')\n",
        "data['Activity_Details'] = data['Activity_Details'].replace(\"10 Secret Things You Didn't Know About AI\", 'AI_10Sec')\n",
        "data['Activity_Details'] = data['Activity_Details'].replace(\"Three Keys to your success\", 'E_Success')\n",
        "data['Activity_Details'] = data['Activity_Details'].replace(\"www.xyz.whitepaper\", '/wpaper')\n",
        "sns.countplot(x = \"Activity_Details\", hue = \"Quality_of_Lead\", data = data)"
      ],
      "execution_count": null,
      "outputs": [
        {
          "output_type": "execute_result",
          "data": {
            "text/plain": [
              "<matplotlib.axes._subplots.AxesSubplot at 0x7f1a856076a0>"
            ]
          },
          "metadata": {
            "tags": []
          },
          "execution_count": 151
        },
        {
          "output_type": "display_data",
          "data": {
            "image/png": "[encoded data removed]",
            "text/plain": [
              "<Figure size 1656x720 with 1 Axes>"
            ]
          },
          "metadata": {
            "tags": [],
            "needs_background": "light"
          }
        }
      ]
    },
    {
      "cell_type": "code",
      "metadata": {
        "id": "ks_jxiKU0El4",
        "colab_type": "code",
        "colab": {
          "base_uri": "https://localhost:8080/",
          "height": 623
        },
        "outputId": "46bef169-2bb6-4f2f-9d6f-4e30e7944d2d"
      },
      "source": [
        "plt.figure(figsize=(20,10))\n",
        "\n",
        "sns.countplot(x = \"Activity_Name\", hue = \"Quality_of_Lead\", data = data)"
      ],
      "execution_count": null,
      "outputs": [
        {
          "output_type": "execute_result",
          "data": {
            "text/plain": [
              "<matplotlib.axes._subplots.AxesSubplot at 0x7f1a85540e10>"
            ]
          },
          "metadata": {
            "tags": []
          },
          "execution_count": 152
        },
        {
          "output_type": "display_data",
          "data": {
            "image/png": "[encoded data removed]",
            "text/plain": [
              "<Figure size 1440x720 with 1 Axes>"
            ]
          },
          "metadata": {
            "tags": [],
            "needs_background": "light"
          }
        }
      ]
    },
    {
      "cell_type": "code",
      "metadata": {
        "id": "pSSPcMkO3zcF",
        "colab_type": "code",
        "colab": {}
      },
      "source": [
        ""
      ],
      "execution_count": null,
      "outputs": []
    }
  ]
}